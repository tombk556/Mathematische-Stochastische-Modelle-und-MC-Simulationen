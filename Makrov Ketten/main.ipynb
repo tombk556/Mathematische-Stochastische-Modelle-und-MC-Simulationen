{
 "cells": [
  {
   "cell_type": "code",
   "execution_count": 8,
   "metadata": {},
   "outputs": [
    {
     "name": "stdout",
     "output_type": "stream",
     "text": [
      "3\n",
      "1\n",
      "3\n",
      "1\n",
      "3\n",
      "1\n",
      "3\n",
      "1\n",
      "4\n",
      "3\n"
     ]
    },
    {
     "data": {
      "text/plain": [
       "{1: 0.4, 2: 0.0, 3: 0.5, 4: 0.1}"
      ]
     },
     "execution_count": 8,
     "metadata": {},
     "output_type": "execute_result"
    }
   ],
   "source": [
    "import random\n",
    "\n",
    "# Anzahl der Durchgänge für die Monte-Carlo-Simulation\n",
    "num_iterations = 10\n",
    "\n",
    "# Zähler für die Anzahl der Besuche auf jeder Seite\n",
    "visits = {1: 0, 2: 0, 3: 0, 4: 0}\n",
    "\n",
    "# Startseite wählen\n",
    "current_page = random.choice(list(visits.keys()))\n",
    "\n",
    "# Übergangsfunktion basierend auf den gegebenen Links\n",
    "def transition(current):\n",
    "    if current == 1:\n",
    "        return random.choice([2, 3, 4])\n",
    "    elif current == 2:\n",
    "        return random.choice([3, 4])\n",
    "    elif current == 3:\n",
    "        return 1\n",
    "    elif current == 4:\n",
    "        return random.choice([1, 3])\n",
    "\n",
    "# Monte-Carlo-Simulation des Surfverhaltens\n",
    "for _ in range(num_iterations):\n",
    "    current_page = transition(current_page)\n",
    "    visits[current_page] += 1\n",
    "\n",
    "# Normalisierung der Besuche, um relative Häufigkeiten zu erhalten\n",
    "total_visits = sum(visits.values())\n",
    "visit_frequencies = {page: count / total_visits for page, count in visits.items()}\n",
    "\n",
    "visit_frequencies\n"
   ]
  },
  {
   "cell_type": "code",
   "execution_count": 24,
   "metadata": {},
   "outputs": [
    {
     "name": "stdout",
     "output_type": "stream",
     "text": [
      "Übergangsmatrix : \n",
      " [[0.0375 0.3208 0.3208 0.3208]\n",
      " [0.0375 0.0375 0.4625 0.4625]\n",
      " [0.8875 0.0375 0.0375 0.0375]\n",
      " [0.4625 0.0375 0.4625 0.0375]]\n",
      "Transpornierte Matrix: \n",
      " [[0.0375 0.0375 0.8875 0.4625]\n",
      " [0.3208 0.0375 0.0375 0.0375]\n",
      " [0.3208 0.4625 0.0375 0.4625]\n",
      " [0.3208 0.4625 0.0375 0.0375]]\n",
      "Einheitsmatrix : \n",
      " [[1. 0. 0. 0.]\n",
      " [0. 1. 0. 0.]\n",
      " [0. 0. 1. 0.]\n",
      " [0. 0. 0. 1.]]\n",
      "Transponierte Matrix - Einheitsmatrix: \n",
      " [[-0.9625  0.0375  0.8875  0.4625]\n",
      " [ 0.3208 -0.9625  0.0375  0.0375]\n",
      " [ 0.3208  0.4625 -0.9625  0.4625]\n",
      " [ 0.3208  0.4625  0.0375 -0.9625]]\n",
      "Hinzufügen der Bedingung: 1 1 1 1: \n",
      " [[-0.9625  0.0375  0.8875  0.4625]\n",
      " [ 0.3208 -0.9625  0.0375  0.0375]\n",
      " [ 0.3208  0.4625 -0.9625  0.4625]\n",
      " [ 1.      1.      1.      1.    ]]\n"
     ]
    },
    {
     "data": {
      "text/plain": [
       "array([0.36815166, 0.14179736, 0.28795292, 0.20209806])"
      ]
     },
     "execution_count": 24,
     "metadata": {},
     "output_type": "execute_result"
    }
   ],
   "source": [
    "import numpy as np\n",
    "\n",
    "# Definieren der Übergangsmatrix\n",
    "P = np.array([\n",
    "    [0.0375, 0.3208, 0.3208, 0.3208],\n",
    "    [0.0375, 0.0375, 0.4625, 0.4625],\n",
    "    [0.8875, 0.0375, 0.0375, 0.0375],\n",
    "    [0.4625, 0.0375, 0.4625, 0.0375],\n",
    "])\n",
    "\n",
    "# Lösen des Gleichungssystems pi*P = pi\n",
    "# Formulieren als (P^T - I)x = 0\n",
    "# wobei I die Einheitsmatrix ist und x der Vektor pi ist.\n",
    "print(\"Übergangsmatrix : \\n\", P)\n",
    "\n",
    "print(\"Transpornierte Matrix: \\n\", P.T)\n",
    "\n",
    "print(\"Einheitsmatrix : \\n\", np.eye(4))\n",
    "\n",
    "A = P.T - np.eye(4)\n",
    "\n",
    "print(\"Transponierte Matrix - Einheitsmatrix: \\n\", A)\n",
    "# Hinzufügen der Bedingung, dass die Summe von pi 1 ergibt\n",
    "A[-1] = [1, 1, 1, 1]\n",
    "\n",
    "print(\"Hinzufügen der Bedingung: 1 1 1 1: \\n\", A)\n",
    "# Rechte Seite des Gleichungssystems (alles 0 außer der letzten 1)\n",
    "b = np.array([0, 0, 0, 1])\n",
    "\n",
    "# Lösen des Gleichungssystems\n",
    "pi = np.linalg.solve(A, b)\n",
    "pi\n"
   ]
  }
 ],
 "metadata": {
  "kernelspec": {
   "display_name": "Python 3",
   "language": "python",
   "name": "python3"
  },
  "language_info": {
   "codemirror_mode": {
    "name": "ipython",
    "version": 3
   },
   "file_extension": ".py",
   "mimetype": "text/x-python",
   "name": "python",
   "nbconvert_exporter": "python",
   "pygments_lexer": "ipython3",
   "version": "3.11.2"
  }
 },
 "nbformat": 4,
 "nbformat_minor": 2
}

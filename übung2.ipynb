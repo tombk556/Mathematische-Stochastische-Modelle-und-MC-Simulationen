{
 "cells": [
  {
   "cell_type": "code",
   "execution_count": 1,
   "metadata": {},
   "outputs": [],
   "source": [
    "import numpy "
   ]
  },
  {
   "cell_type": "code",
   "execution_count": null,
   "metadata": {},
   "outputs": [],
   "source": [
    "import numpy as np\n",
    "import matplotlib.pyplot as plt\n",
    "\n",
    "# Anfangswert der Aktie\n",
    "X0 = 100  # EUR\n",
    "\n",
    "# Anzahl der Simulationsläufe\n",
    "num_simulations = 100\n",
    "\n",
    "# Anzahl der Handelstage\n",
    "num_days = 5\n",
    "\n",
    "# Parameter für die Tageszinsen\n",
    "mean_i = 1e-4\n",
    "std_dev_i = np.sqrt(4.41e-8)\n",
    "\n",
    "\n",
    "data = []\n",
    "for run in range(num_simulations):\n",
    "    print(\"-------- run : \",  run + 1, \" ---------\")\n",
    "    \n",
    "    X0 = 100\n",
    "    data_ = []\n",
    "    for day in range(num_days):\n",
    "        daily_return = np.random.normal(mean_i, std_dev_i)\n",
    "        X0 = X0 * (1 + daily_return)\n",
    "        print(\"day : \", day + 1, \" daily retrun : \", X0, \" interestrate : \", daily_return + 1)\n",
    "        data_.append(X0)\n",
    "    data.append(data_)\n",
    "    "
   ]
  },
  {
   "cell_type": "code",
   "execution_count": null,
   "metadata": {},
   "outputs": [],
   "source": [
    "plt.figure(figsize=(12, 6))\n",
    "for i in range(num_simulations):\n",
    "    plt.plot(data[i], label=f\"Simulation {i+1}\")\n",
    "\n",
    "plt.xlabel(\"Handelstage\")\n",
    "plt.ylabel(\"Aktienkurs (EUR)\")\n",
    "plt.legend()\n",
    "plt.title(\"Monte-Carlo-Simulation von Aktienkursverläufen\")\n",
    "plt.grid(True)\n",
    "plt.show()"
   ]
  },
  {
   "cell_type": "code",
   "execution_count": 8,
   "metadata": {},
   "outputs": [
    {
     "data": {
      "text/plain": [
       "3.129462284986535"
      ]
     },
     "execution_count": 8,
     "metadata": {},
     "output_type": "execute_result"
    }
   ],
   "source": [
    "numpy.random.normal(10**-4, 2)"
   ]
  }
 ],
 "metadata": {
  "kernelspec": {
   "display_name": "Python 3",
   "language": "python",
   "name": "python3"
  },
  "language_info": {
   "codemirror_mode": {
    "name": "ipython",
    "version": 3
   },
   "file_extension": ".py",
   "mimetype": "text/x-python",
   "name": "python",
   "nbconvert_exporter": "python",
   "pygments_lexer": "ipython3",
   "version": "3.11.2"
  }
 },
 "nbformat": 4,
 "nbformat_minor": 2
}

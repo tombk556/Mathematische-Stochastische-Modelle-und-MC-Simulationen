{
 "cells": [
  {
   "cell_type": "markdown",
   "metadata": {},
   "source": [
    "# Übung 6"
   ]
  },
  {
   "cell_type": "markdown",
   "metadata": {},
   "source": [
    "## Aufgabe 1"
   ]
  },
  {
   "cell_type": "code",
   "execution_count": 226,
   "metadata": {},
   "outputs": [],
   "source": [
    "# Heißes Jahr (H) -> 0.1 small (S), 0.4 mitteldick (M), 0.5 large (L) \n",
    "# Kaltes Jahr (C) -> 0.7 small (S), 0.2 mitteldick (M), 0.1 large (L) "
   ]
  },
  {
   "cell_type": "code",
   "execution_count": 227,
   "metadata": {},
   "outputs": [],
   "source": [
    "import numpy as np"
   ]
  },
  {
   "cell_type": "markdown",
   "metadata": {},
   "source": [
    "### (a)"
   ]
  },
  {
   "cell_type": "code",
   "execution_count": 228,
   "metadata": {},
   "outputs": [],
   "source": [
    "elements = [\"H\", \"C\"]\n",
    "probabilities = [0.57, 0.43]\n",
    "X = np.random.choice(elements, 50, p=probabilities)"
   ]
  },
  {
   "cell_type": "markdown",
   "metadata": {},
   "source": [
    "### (b)"
   ]
  },
  {
   "cell_type": "code",
   "execution_count": 229,
   "metadata": {},
   "outputs": [
    {
     "name": "stdout",
     "output_type": "stream",
     "text": [
      "Wahrscheinlichkeit (pHH): 0.6206896551724138\n",
      "Wahrscheinlichkeit (pCH): 0.6\n"
     ]
    }
   ],
   "source": [
    "count_HH = np.sum((X[:-1] == 'H') & (X[1:] == 'H'))\n",
    "total_H = np.sum(X == 'H')\n",
    "pHH = count_HH / (total_H - 1)\n",
    "\n",
    "count_CH = np.sum((X[:-1] == 'C') & (X[1:] == 'H'))\n",
    "total_C = np.sum(X == 'C')\n",
    "pCH = count_CH / total_C\n",
    "\n",
    "print(f'Wahrscheinlichkeit (pHH): {pHH}')\n",
    "print(f'Wahrscheinlichkeit (pCH): {pCH}')\n"
   ]
  },
  {
   "cell_type": "markdown",
   "metadata": {},
   "source": [
    "### (c)"
   ]
  },
  {
   "cell_type": "code",
   "execution_count": 230,
   "metadata": {},
   "outputs": [
    {
     "name": "stdout",
     "output_type": "stream",
     "text": [
      "Wahrscheinlichkeit (pHC): 0.30000000000000004\n",
      "Wahrscheinlichkeit (pCC): 0.6\n"
     ]
    }
   ],
   "source": [
    "pHH = 0.7\n",
    "pCH = 0.4\n",
    "\n",
    "pHC = 1 - pHH\n",
    "pCC = 1 - pCH\n",
    "\n",
    "print(f'Wahrscheinlichkeit (pHC): {pHC}')\n",
    "print(f'Wahrscheinlichkeit (pCC): {pCC}')"
   ]
  },
  {
   "cell_type": "markdown",
   "metadata": {},
   "source": [
    "### (d)"
   ]
  },
  {
   "cell_type": "code",
   "execution_count": 231,
   "metadata": {},
   "outputs": [],
   "source": [
    "elements = [\"HH\", \"CH\"]\n",
    "probabilities = [pHH, pCH]\n",
    "\n",
    "Y = np.random.choice(elements, 25, probabilities)\n",
    "Y = np.array([char for element in Y for char in element])"
   ]
  },
  {
   "cell_type": "markdown",
   "metadata": {},
   "source": [
    "### (e)"
   ]
  },
  {
   "cell_type": "code",
   "execution_count": 232,
   "metadata": {},
   "outputs": [],
   "source": [
    "### Folge aus (a)\n",
    "\n",
    "elements = [\"S\", \"M\", \"L\"]\n",
    "probabilities_H = [0.1, 0.4, 0.5]\n",
    "probabilities_C = [0.7, 0.2, 0.1]\n",
    "\n",
    "X_ringe = []\n",
    "for i in X:\n",
    "    if i == \"H\":\n",
    "        X_ringe.append({ \"H\" : np.random.choice(elements, 1, probabilities_H)[0]})\n",
    "    elif i == \"C\":\n",
    "        X_ringe.append({\"C\" : np.random.choice(elements, 1, probabilities_C)[0]})\n",
    "    else:\n",
    "        print(\"Something is wrong ...\")\n",
    "\n",
    "\n",
    "Y_ringe = []\n",
    "for i in Y:\n",
    "    if i == \"H\":\n",
    "        Y_ringe.append({ \"H\" : np.random.choice(elements, 1, probabilities_H)[0]})\n",
    "    elif i == \"C\":\n",
    "        Y_ringe.append({\"C\" : np.random.choice(elements, 1, probabilities_C)[0]})\n",
    "    else:\n",
    "        print(\"Something is wrong ...\")\n",
    "        "
   ]
  },
  {
   "cell_type": "markdown",
   "metadata": {},
   "source": [
    "### (f)"
   ]
  },
  {
   "cell_type": "code",
   "execution_count": 233,
   "metadata": {},
   "outputs": [
    {
     "name": "stdout",
     "output_type": "stream",
     "text": [
      "Häufigkeitsverteilung bei X, dass bei einem kalten Jahr ein S Ring ensteht :  0.22\n",
      "Häufigkeitsverteilung bei Y, dass bei einem kalten Jahr ein S Ring ensteht :  0.04\n"
     ]
    }
   ],
   "source": [
    "Xcount_CS = sum(1 for d in X_ringe if 'C' in d and d['C'] == 'S')\n",
    "print(\"Häufigkeitsverteilung bei X, dass bei einem kalten Jahr ein S Ring ensteht : \", Xcount_CS/50)\n",
    "\n",
    "Ycount_CS = sum(1 for d in Y_ringe if 'C' in d and d['C'] == 'S')\n",
    "print(\"Häufigkeitsverteilung bei Y, dass bei einem kalten Jahr ein S Ring ensteht : \", Ycount_CS/50)"
   ]
  }
 ],
 "metadata": {
  "kernelspec": {
   "display_name": "Python 3",
   "language": "python",
   "name": "python3"
  },
  "language_info": {
   "codemirror_mode": {
    "name": "ipython",
    "version": 3
   },
   "file_extension": ".py",
   "mimetype": "text/x-python",
   "name": "python",
   "nbconvert_exporter": "python",
   "pygments_lexer": "ipython3",
   "version": "3.11.2"
  }
 },
 "nbformat": 4,
 "nbformat_minor": 2
}
